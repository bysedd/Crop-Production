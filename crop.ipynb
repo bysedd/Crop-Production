{
 "cells": [
  {
   "cell_type": "markdown",
   "source": [
    "# 1. Introdução"
   ],
   "metadata": {
    "collapsed": false
   },
   "id": "62aca6cffe309620"
  },
  {
   "cell_type": "markdown",
   "source": [
    "## Sobre os dados\n",
    "\n",
    "**Conjunto de dados atualizado**\n",
    "Jan 22, 2024\n",
    "\n",
    "**Author**\n",
    "[Felippe Andrade](https://www.linkedin.com/in/bysedd/)\n",
    "\n",
    "### Descrição dos dados\n",
    "\n",
    "Dados da Organização das Nações Unidas para Alimentação e Agricultura (FAO)\n",
    "As estatísticas de culturas primárias e de fibras são registradas para 173 produtos, abrangendo as seguintes categorias: culturas Primárias, Fibras Primárias, Cereais, Grãos Grossos, Frutas Cítricas, Frutas, Juta e Fibras semelhantes à Juta, Equivalente de Farelo de óleo, culturas de óleo primárias, pulses, Raízes e Tubérculos, Frutas de árvores e Legumes e Melões. Os dados são expressos em termos de área colhida, quantidade produzida, rendimento e quantidade de sementes. O objetivo é abranger de forma abrangente a produção de todas as culturas primárias para todos os países e regiões do mundo."
   ],
   "metadata": {
    "collapsed": false
   },
   "id": "997a9bed370832be"
  },
  {
   "cell_type": "markdown",
   "source": [
    "## 1.1 Importando bibliotecas"
   ],
   "metadata": {
    "collapsed": false
   },
   "id": "2a80b63f3727a685"
  },
  {
   "cell_type": "code",
   "outputs": [],
   "source": [
    "import pandas as pd"
   ],
   "metadata": {
    "collapsed": false,
    "ExecuteTime": {
     "end_time": "2024-02-09T03:16:27.076290300Z",
     "start_time": "2024-02-09T03:16:26.973434300Z"
    }
   },
   "id": "ce6cf51ed9581c9e",
   "execution_count": 645
  },
  {
   "cell_type": "markdown",
   "source": [
    "Definindo os dados"
   ],
   "metadata": {
    "collapsed": false
   },
   "id": "a5f93d08bd91cf6"
  },
  {
   "cell_type": "code",
   "outputs": [],
   "source": [
    "# units = pd.read_csv(\"data/units.csv\")\n",
    "\n",
    "df_americas = pd.read_csv(\"data/Production_Crops_E_Americas.csv\", encoding_errors=\"ignore\")\n",
    "df_africa = pd.read_csv(\"data/Production_Crops_E_Africa.csv\", encoding_errors=\"ignore\")\n",
    "df_asia = pd.read_csv(\"data/Production_Crops_E_Asia.csv\", encoding_errors=\"ignore\")\n",
    "df_europe = pd.read_csv(\"data/Production_Crops_E_Europe.csv\", encoding_errors=\"ignore\")\n",
    "df_oceania = pd.read_csv(\"data/Production_Crops_E_Oceania.csv\", encoding_errors=\"ignore\")"
   ],
   "metadata": {
    "collapsed": false,
    "ExecuteTime": {
     "end_time": "2024-02-09T03:16:28.401694Z",
     "start_time": "2024-02-09T03:16:26.980293Z"
    }
   },
   "id": "79bc1f69e1da03af",
   "execution_count": 646
  },
  {
   "cell_type": "markdown",
   "source": [
    "Criando a coluna *Continent* para análises posteriores"
   ],
   "metadata": {
    "collapsed": false
   },
   "id": "19b8df8a1257c95f"
  },
  {
   "cell_type": "code",
   "outputs": [],
   "source": [
    "df_americas[\"Continent\"] = \"Americas\"\n",
    "df_africa[\"Continent\"] = \"Africa\"\n",
    "df_asia[\"Continent\"] = \"Asia\"\n",
    "df_europe[\"Continent\"] = \"Europe\"\n",
    "df_oceania[\"Continent\"] = \"Oceania\""
   ],
   "metadata": {
    "collapsed": false,
    "ExecuteTime": {
     "end_time": "2024-02-09T03:16:28.402692700Z",
     "start_time": "2024-02-09T03:16:28.004722300Z"
    }
   },
   "id": "861bbb352846e4cd",
   "execution_count": 647
  },
  {
   "cell_type": "markdown",
   "source": [
    "## 1.2 Explicando as 'units'"
   ],
   "metadata": {
    "collapsed": false
   },
   "id": "c9342a9f3aad05b8"
  },
  {
   "cell_type": "markdown",
   "source": [
    "| Unit Name | Description             |\n",
    "|-----------|-------------------------|\n",
    "| hg        | hectograma              |\n",
    "| hg/ha     | hectogramas por hectare |\n",
    "| tonnes    | toneladas               |"
   ],
   "metadata": {
    "collapsed": false
   },
   "id": "7024b7fa6e5356bd"
  },
  {
   "cell_type": "markdown",
   "source": [
    "## 1.3 Explicando as 'flags'"
   ],
   "metadata": {
    "collapsed": false
   },
   "id": "a2fea4a7c64dd3f7"
  },
  {
   "cell_type": "markdown",
   "source": [
    "| Flag | Description                                                                                                                                  |\n",
    "|------|----------------------------------------------------------------------------------------------------------------------------------------------|\n",
    "| NaN  | Official data                                                                                                                                |\n",
    "| *    | Unofficial figure                                                                                                                            |\n",
    "| A    | Aggregate, may include official, semi-official, estimated or calculated data                                                                 |\n",
    "| Bk   | Break in series                                                                                                                              |\n",
    "| C    | Calculated                                                                                                                                   |\n",
    "| Ce   | Calculated data based on estimated data                                                                                                      |\n",
    "| Cv   | Calculated through value                                                                                                                     |\n",
    "| E    | Expert sources from FAO (including other divisions)                                                                                          |\n",
    "| F    | FAO estimate                                                                                                                                 |\n",
    "| Fb   | Data obtained as a balance                                                                                                                   |\n",
    "| Fc   | Calculated data                                                                                                                              |\n",
    "| Fd   | Estimates - discontinued time series                                                                                                         |\n",
    "| Fk   | Calculated data on the basis of official figures                                                                                             |\n",
    "| Fm   | Manual Estimation                                                                                                                            |\n",
    "| I    | Country data reported by International Organizations where the country is a member (Semi-official) - WTO, EU, UNSD, etc.                     |\n",
    "| Im   | FAO data based on imputation methodology                                                                                                     |\n",
    "| M    | Data not available                                                                                                                           |\n",
    "| NA   | Not applicable                                                                                                                               |\n",
    "| NR   | Not reported                                                                                                                                 |\n",
    "| NV   | Data not available                                                                                                                           |\n",
    "| Od   | Official data - discontinued time series                                                                                                     |\n",
    "| P    | Provisional official data                                                                                                                    |\n",
    "| Q    | Official data reported on FAO Questionnaires from countries                                                                                  |\n",
    "| Qm   | Official data from questionnaires and/or national sources and/or COMTRADE (reporters)                                                        |\n",
    "| R    | Estimated data using trading partners database                                                                                               |\n",
    "| S    | Standardized data                                                                                                                            |\n",
    "| SD   | Statistical Discrepancy                                                                                                                      |\n",
    "| W    | Data reported on country official publications or web sites (Official) or trade country files                                                |\n",
    "| X    | International reliable sources                                                                                                               |\n",
    "| Z    | When the Fertilizer Utilization Account (FUA) does not balance due to utilization from stockpiles, apparent consumption has been set to zero |"
   ],
   "metadata": {
    "collapsed": false
   },
   "id": "752ec6520c5568e7"
  },
  {
   "cell_type": "markdown",
   "source": [
    "# 2. Análise exploratória"
   ],
   "metadata": {
    "collapsed": false
   },
   "id": "b0c95c5e247af150"
  },
  {
   "cell_type": "code",
   "outputs": [],
   "source": [
    "def exibir_shape(df_label: str, shape: tuple[int, int]) -> None:\n",
    "    \"\"\"\n",
    "    Prints the label of the DataFrame along with the number of rows and columns it contains.\n",
    "    :param df_label: The label of the DataFrame.\n",
    "    :param shape: A tuple representing the shape of the DataFrame, with the number of rows and columns.\n",
    "    \"\"\"\n",
    "    print(\"'{0}' possui {1} linhas e {2} colunas.\".format(df_label, *shape))"
   ],
   "metadata": {
    "collapsed": false,
    "ExecuteTime": {
     "end_time": "2024-02-09T03:16:28.403692500Z",
     "start_time": "2024-02-09T03:16:28.015177700Z"
    }
   },
   "id": "c8ce80929b1acbda",
   "execution_count": 648
  },
  {
   "cell_type": "code",
   "outputs": [
    {
     "name": "stdout",
     "output_type": "stream",
     "text": [
      "'df_americas' possui 7206 linhas e 126 colunas.\n",
      "'df_oceania' possui 1654 linhas e 126 colunas.\n",
      "'df_europe' possui 10557 linhas e 126 colunas.\n",
      "'df_asia' possui 9638 linhas e 126 colunas.\n",
      "'df_africa' possui 9091 linhas e 126 colunas.\n"
     ]
    }
   ],
   "source": [
    "exibir_shape(\"df_americas\", df_americas.shape)\n",
    "exibir_shape(\"df_oceania\", df_oceania.shape)\n",
    "exibir_shape(\"df_europe\", df_europe.shape)\n",
    "exibir_shape(\"df_asia\", df_asia.shape)\n",
    "exibir_shape(\"df_africa\", df_africa.shape)"
   ],
   "metadata": {
    "collapsed": false,
    "ExecuteTime": {
     "end_time": "2024-02-09T03:16:28.464692700Z",
     "start_time": "2024-02-09T03:16:28.228433300Z"
    }
   },
   "id": "541623268a20b40e",
   "execution_count": 649
  },
  {
   "cell_type": "markdown",
   "source": [
    "## 2.1 Estrutura"
   ],
   "metadata": {
    "collapsed": false
   },
   "id": "5c1093500a0a59a5"
  },
  {
   "cell_type": "code",
   "outputs": [
    {
     "name": "stdout",
     "output_type": "stream",
     "text": [
      "'df_americas' possui 7206 linhas e 126 colunas.\n",
      "'df_oceania' possui 1654 linhas e 126 colunas.\n",
      "'df_europe' possui 10557 linhas e 126 colunas.\n",
      "'df_asia' possui 9638 linhas e 126 colunas.\n",
      "'df_africa' possui 9091 linhas e 126 colunas.\n"
     ]
    }
   ],
   "source": [
    "exibir_shape(\"df_americas\", df_americas.shape)\n",
    "exibir_shape(\"df_oceania\", df_oceania.shape)\n",
    "exibir_shape(\"df_europe\", df_europe.shape)\n",
    "exibir_shape(\"df_asia\", df_asia.shape)\n",
    "exibir_shape(\"df_africa\", df_africa.shape)"
   ],
   "metadata": {
    "collapsed": false,
    "ExecuteTime": {
     "end_time": "2024-02-09T03:16:28.672919200Z",
     "start_time": "2024-02-09T03:16:28.469685800Z"
    }
   },
   "id": "d0368600c7ca88c7",
   "execution_count": 650
  },
  {
   "cell_type": "code",
   "outputs": [
    {
     "data": {
      "text/plain": "      Area Code                                Area  Item Code  \\\n0             8                 Antigua and Barbuda        486   \n1             8                 Antigua and Barbuda        486   \n2             8                 Antigua and Barbuda        486   \n3             8                 Antigua and Barbuda        414   \n4             8                 Antigua and Barbuda        414   \n...         ...                                 ...        ...   \n7201        236  Venezuela (Bolivarian Republic of)       1723   \n7202        236  Venezuela (Bolivarian Republic of)       1723   \n7203        236  Venezuela (Bolivarian Republic of)       1735   \n7204        236  Venezuela (Bolivarian Republic of)       1735   \n7205        236  Venezuela (Bolivarian Republic of)       1735   \n\n                     Item  Element Code         Element    Unit      Y1961  \\\n0                 Bananas          5312  Area harvested      ha        NaN   \n1                 Bananas          5419           Yield   hg/ha        NaN   \n2                 Bananas          5510      Production  tonnes        NaN   \n3            Beans, green          5312  Area harvested      ha        1.0   \n4            Beans, green          5419           Yield   hg/ha    40000.0   \n...                   ...           ...             ...     ...        ...   \n7201  Sugar Crops Primary          5419           Yield   hg/ha   624620.0   \n7202  Sugar Crops Primary          5510      Production  tonnes  2519028.0   \n7203   Vegetables Primary          5312  Area harvested      ha    10176.0   \n7204   Vegetables Primary          5419           Yield   hg/ha   134928.0   \n7205   Vegetables Primary          5510      Production  tonnes   137303.0   \n\n     Y1961F      Y1962  ... Y2015F      Y2016 Y2016F      Y2017 Y2017F  \\\n0       NaN        NaN  ...     Im       40.0     Im       42.0     Im   \n1       NaN        NaN  ...     Fc    66250.0     Fc    64048.0     Fc   \n2       NaN        NaN  ...     Im      265.0     Im      269.0     Im   \n3         F        1.0  ...     Im       25.0     Im       25.0     Im   \n4        Fc    40000.0  ...     Fc    40000.0     Fc    40400.0     Fc   \n...     ...        ...  ...    ...        ...    ...        ...    ...   \n7201     Fc   665742.0  ...     Fc   626035.0     Fc   539832.0     Fc   \n7202      A  2632476.0  ...      A  3698488.0      A  3998316.0      A   \n7203      A     9202.0  ...      A    67489.0      A    67971.0      A   \n7204     Fc   131391.0  ...     Fc   195347.0     Fc   194480.0     Fc   \n7205      A   120906.0  ...      A  1318379.0      A  1321899.0      A   \n\n          Y2018 Y2018F      Y2019 Y2019F  Continent  \n0          45.0     Im       49.0     Im   Americas  \n1       60667.0     Fc    56327.0     Fc   Americas  \n2         273.0     Im      276.0     Im   Americas  \n3          25.0     Im       25.0     Im   Americas  \n4       40400.0     Fc    40800.0     Fc   Americas  \n...         ...    ...        ...    ...        ...  \n7201   595381.0     Fc   590977.0     Fc   Americas  \n7202  4359617.0      A  4404728.0      A   Americas  \n7203    60661.0      A    58775.0      A   Americas  \n7204   196332.0     Fc   193212.0     Fc   Americas  \n7205  1190972.0      A  1135606.0      A   Americas  \n\n[7206 rows x 126 columns]",
      "text/html": "<div>\n<style scoped>\n    .dataframe tbody tr th:only-of-type {\n        vertical-align: middle;\n    }\n\n    .dataframe tbody tr th {\n        vertical-align: top;\n    }\n\n    .dataframe thead th {\n        text-align: right;\n    }\n</style>\n<table border=\"1\" class=\"dataframe\">\n  <thead>\n    <tr style=\"text-align: right;\">\n      <th></th>\n      <th>Area Code</th>\n      <th>Area</th>\n      <th>Item Code</th>\n      <th>Item</th>\n      <th>Element Code</th>\n      <th>Element</th>\n      <th>Unit</th>\n      <th>Y1961</th>\n      <th>Y1961F</th>\n      <th>Y1962</th>\n      <th>...</th>\n      <th>Y2015F</th>\n      <th>Y2016</th>\n      <th>Y2016F</th>\n      <th>Y2017</th>\n      <th>Y2017F</th>\n      <th>Y2018</th>\n      <th>Y2018F</th>\n      <th>Y2019</th>\n      <th>Y2019F</th>\n      <th>Continent</th>\n    </tr>\n  </thead>\n  <tbody>\n    <tr>\n      <th>0</th>\n      <td>8</td>\n      <td>Antigua and Barbuda</td>\n      <td>486</td>\n      <td>Bananas</td>\n      <td>5312</td>\n      <td>Area harvested</td>\n      <td>ha</td>\n      <td>NaN</td>\n      <td>NaN</td>\n      <td>NaN</td>\n      <td>...</td>\n      <td>Im</td>\n      <td>40.0</td>\n      <td>Im</td>\n      <td>42.0</td>\n      <td>Im</td>\n      <td>45.0</td>\n      <td>Im</td>\n      <td>49.0</td>\n      <td>Im</td>\n      <td>Americas</td>\n    </tr>\n    <tr>\n      <th>1</th>\n      <td>8</td>\n      <td>Antigua and Barbuda</td>\n      <td>486</td>\n      <td>Bananas</td>\n      <td>5419</td>\n      <td>Yield</td>\n      <td>hg/ha</td>\n      <td>NaN</td>\n      <td>NaN</td>\n      <td>NaN</td>\n      <td>...</td>\n      <td>Fc</td>\n      <td>66250.0</td>\n      <td>Fc</td>\n      <td>64048.0</td>\n      <td>Fc</td>\n      <td>60667.0</td>\n      <td>Fc</td>\n      <td>56327.0</td>\n      <td>Fc</td>\n      <td>Americas</td>\n    </tr>\n    <tr>\n      <th>2</th>\n      <td>8</td>\n      <td>Antigua and Barbuda</td>\n      <td>486</td>\n      <td>Bananas</td>\n      <td>5510</td>\n      <td>Production</td>\n      <td>tonnes</td>\n      <td>NaN</td>\n      <td>NaN</td>\n      <td>NaN</td>\n      <td>...</td>\n      <td>Im</td>\n      <td>265.0</td>\n      <td>Im</td>\n      <td>269.0</td>\n      <td>Im</td>\n      <td>273.0</td>\n      <td>Im</td>\n      <td>276.0</td>\n      <td>Im</td>\n      <td>Americas</td>\n    </tr>\n    <tr>\n      <th>3</th>\n      <td>8</td>\n      <td>Antigua and Barbuda</td>\n      <td>414</td>\n      <td>Beans, green</td>\n      <td>5312</td>\n      <td>Area harvested</td>\n      <td>ha</td>\n      <td>1.0</td>\n      <td>F</td>\n      <td>1.0</td>\n      <td>...</td>\n      <td>Im</td>\n      <td>25.0</td>\n      <td>Im</td>\n      <td>25.0</td>\n      <td>Im</td>\n      <td>25.0</td>\n      <td>Im</td>\n      <td>25.0</td>\n      <td>Im</td>\n      <td>Americas</td>\n    </tr>\n    <tr>\n      <th>4</th>\n      <td>8</td>\n      <td>Antigua and Barbuda</td>\n      <td>414</td>\n      <td>Beans, green</td>\n      <td>5419</td>\n      <td>Yield</td>\n      <td>hg/ha</td>\n      <td>40000.0</td>\n      <td>Fc</td>\n      <td>40000.0</td>\n      <td>...</td>\n      <td>Fc</td>\n      <td>40000.0</td>\n      <td>Fc</td>\n      <td>40400.0</td>\n      <td>Fc</td>\n      <td>40400.0</td>\n      <td>Fc</td>\n      <td>40800.0</td>\n      <td>Fc</td>\n      <td>Americas</td>\n    </tr>\n    <tr>\n      <th>...</th>\n      <td>...</td>\n      <td>...</td>\n      <td>...</td>\n      <td>...</td>\n      <td>...</td>\n      <td>...</td>\n      <td>...</td>\n      <td>...</td>\n      <td>...</td>\n      <td>...</td>\n      <td>...</td>\n      <td>...</td>\n      <td>...</td>\n      <td>...</td>\n      <td>...</td>\n      <td>...</td>\n      <td>...</td>\n      <td>...</td>\n      <td>...</td>\n      <td>...</td>\n      <td>...</td>\n    </tr>\n    <tr>\n      <th>7201</th>\n      <td>236</td>\n      <td>Venezuela (Bolivarian Republic of)</td>\n      <td>1723</td>\n      <td>Sugar Crops Primary</td>\n      <td>5419</td>\n      <td>Yield</td>\n      <td>hg/ha</td>\n      <td>624620.0</td>\n      <td>Fc</td>\n      <td>665742.0</td>\n      <td>...</td>\n      <td>Fc</td>\n      <td>626035.0</td>\n      <td>Fc</td>\n      <td>539832.0</td>\n      <td>Fc</td>\n      <td>595381.0</td>\n      <td>Fc</td>\n      <td>590977.0</td>\n      <td>Fc</td>\n      <td>Americas</td>\n    </tr>\n    <tr>\n      <th>7202</th>\n      <td>236</td>\n      <td>Venezuela (Bolivarian Republic of)</td>\n      <td>1723</td>\n      <td>Sugar Crops Primary</td>\n      <td>5510</td>\n      <td>Production</td>\n      <td>tonnes</td>\n      <td>2519028.0</td>\n      <td>A</td>\n      <td>2632476.0</td>\n      <td>...</td>\n      <td>A</td>\n      <td>3698488.0</td>\n      <td>A</td>\n      <td>3998316.0</td>\n      <td>A</td>\n      <td>4359617.0</td>\n      <td>A</td>\n      <td>4404728.0</td>\n      <td>A</td>\n      <td>Americas</td>\n    </tr>\n    <tr>\n      <th>7203</th>\n      <td>236</td>\n      <td>Venezuela (Bolivarian Republic of)</td>\n      <td>1735</td>\n      <td>Vegetables Primary</td>\n      <td>5312</td>\n      <td>Area harvested</td>\n      <td>ha</td>\n      <td>10176.0</td>\n      <td>A</td>\n      <td>9202.0</td>\n      <td>...</td>\n      <td>A</td>\n      <td>67489.0</td>\n      <td>A</td>\n      <td>67971.0</td>\n      <td>A</td>\n      <td>60661.0</td>\n      <td>A</td>\n      <td>58775.0</td>\n      <td>A</td>\n      <td>Americas</td>\n    </tr>\n    <tr>\n      <th>7204</th>\n      <td>236</td>\n      <td>Venezuela (Bolivarian Republic of)</td>\n      <td>1735</td>\n      <td>Vegetables Primary</td>\n      <td>5419</td>\n      <td>Yield</td>\n      <td>hg/ha</td>\n      <td>134928.0</td>\n      <td>Fc</td>\n      <td>131391.0</td>\n      <td>...</td>\n      <td>Fc</td>\n      <td>195347.0</td>\n      <td>Fc</td>\n      <td>194480.0</td>\n      <td>Fc</td>\n      <td>196332.0</td>\n      <td>Fc</td>\n      <td>193212.0</td>\n      <td>Fc</td>\n      <td>Americas</td>\n    </tr>\n    <tr>\n      <th>7205</th>\n      <td>236</td>\n      <td>Venezuela (Bolivarian Republic of)</td>\n      <td>1735</td>\n      <td>Vegetables Primary</td>\n      <td>5510</td>\n      <td>Production</td>\n      <td>tonnes</td>\n      <td>137303.0</td>\n      <td>A</td>\n      <td>120906.0</td>\n      <td>...</td>\n      <td>A</td>\n      <td>1318379.0</td>\n      <td>A</td>\n      <td>1321899.0</td>\n      <td>A</td>\n      <td>1190972.0</td>\n      <td>A</td>\n      <td>1135606.0</td>\n      <td>A</td>\n      <td>Americas</td>\n    </tr>\n  </tbody>\n</table>\n<p>7206 rows × 126 columns</p>\n</div>"
     },
     "execution_count": 651,
     "metadata": {},
     "output_type": "execute_result"
    }
   ],
   "source": [
    "df_americas"
   ],
   "metadata": {
    "collapsed": false,
    "ExecuteTime": {
     "end_time": "2024-02-09T03:16:29.258662200Z",
     "start_time": "2024-02-09T03:16:28.642917100Z"
    }
   },
   "id": "d5cc2e579bcf8d6b",
   "execution_count": 651
  },
  {
   "cell_type": "markdown",
   "source": [
    "## 2.2 Schema"
   ],
   "metadata": {
    "collapsed": false
   },
   "id": "72dd262255ff0bc0"
  },
  {
   "cell_type": "markdown",
   "source": [
    "Vamos juntar todos esses dados em um **único conjunto de dados**"
   ],
   "metadata": {
    "collapsed": false
   },
   "id": "53d8e64d93472e44"
  },
  {
   "cell_type": "code",
   "outputs": [],
   "source": [
    "df_world = pd.concat([df_americas, df_oceania, df_asia, df_europe, df_africa])"
   ],
   "metadata": {
    "collapsed": false,
    "ExecuteTime": {
     "end_time": "2024-02-09T03:16:29.803485900Z",
     "start_time": "2024-02-09T03:16:29.233662100Z"
    }
   },
   "id": "b27626bfa1f01f4a",
   "execution_count": 652
  },
  {
   "cell_type": "code",
   "outputs": [
    {
     "data": {
      "text/plain": "      Area Code                 Area  Item Code                Item  \\\n0             8  Antigua and Barbuda        486             Bananas   \n1             8  Antigua and Barbuda        486             Bananas   \n2             8  Antigua and Barbuda        486             Bananas   \n3             8  Antigua and Barbuda        414        Beans, green   \n4             8  Antigua and Barbuda        414        Beans, green   \n...         ...                  ...        ...                 ...   \n9086        181             Zimbabwe       1729     Treenuts, Total   \n9087        181             Zimbabwe       1729     Treenuts, Total   \n9088        181             Zimbabwe       1735  Vegetables Primary   \n9089        181             Zimbabwe       1735  Vegetables Primary   \n9090        181             Zimbabwe       1735  Vegetables Primary   \n\n      Element Code         Element    Unit    Y1961 Y1961F    Y1962  ...  \\\n0             5312  Area harvested      ha      NaN    NaN      NaN  ...   \n1             5419           Yield   hg/ha      NaN    NaN      NaN  ...   \n2             5510      Production  tonnes      NaN    NaN      NaN  ...   \n3             5312  Area harvested      ha      1.0      F      1.0  ...   \n4             5419           Yield   hg/ha  40000.0     Fc  40000.0  ...   \n...            ...             ...     ...      ...    ...      ...  ...   \n9086          5419           Yield   hg/ha      NaN    NaN      NaN  ...   \n9087          5510      Production  tonnes      NaN      A      NaN  ...   \n9088          5312  Area harvested      ha  12296.0      A  12644.0  ...   \n9089          5419           Yield   hg/ha  65324.0     Fc  65900.0  ...   \n9090          5510      Production  tonnes  80322.0      A  83324.0  ...   \n\n     Y2015F     Y2016 Y2016F     Y2017 Y2017F     Y2018 Y2018F     Y2019  \\\n0        Im      40.0     Im      42.0     Im      45.0     Im      49.0   \n1        Fc   66250.0     Fc   64048.0     Fc   60667.0     Fc   56327.0   \n2        Im     265.0     Im     269.0     Im     273.0     Im     276.0   \n3        Im      25.0     Im      25.0     Im      25.0     Im      25.0   \n4        Fc   40000.0     Fc   40400.0     Fc   40400.0     Fc   40800.0   \n...     ...       ...    ...       ...    ...       ...    ...       ...   \n9086     Fc   17493.0     Fc   18038.0     Fc   18579.0     Fc   19122.0   \n9087      A    6588.0      A    6490.0      A    6592.0      A    6643.0   \n9088      A   34443.0      A   34937.0      A   35467.0      A   35994.0   \n9089     Fc   66788.0     Fc   66951.0     Fc   67043.0     Fc   67141.0   \n9090      A  230038.0      A  233908.0      A  237783.0      A  241666.0   \n\n     Y2019F  Continent  \n0        Im   Americas  \n1        Fc   Americas  \n2        Im   Americas  \n3        Im   Americas  \n4        Fc   Americas  \n...     ...        ...  \n9086     Fc     Africa  \n9087      A     Africa  \n9088      A     Africa  \n9089     Fc     Africa  \n9090      A     Africa  \n\n[38146 rows x 126 columns]",
      "text/html": "<div>\n<style scoped>\n    .dataframe tbody tr th:only-of-type {\n        vertical-align: middle;\n    }\n\n    .dataframe tbody tr th {\n        vertical-align: top;\n    }\n\n    .dataframe thead th {\n        text-align: right;\n    }\n</style>\n<table border=\"1\" class=\"dataframe\">\n  <thead>\n    <tr style=\"text-align: right;\">\n      <th></th>\n      <th>Area Code</th>\n      <th>Area</th>\n      <th>Item Code</th>\n      <th>Item</th>\n      <th>Element Code</th>\n      <th>Element</th>\n      <th>Unit</th>\n      <th>Y1961</th>\n      <th>Y1961F</th>\n      <th>Y1962</th>\n      <th>...</th>\n      <th>Y2015F</th>\n      <th>Y2016</th>\n      <th>Y2016F</th>\n      <th>Y2017</th>\n      <th>Y2017F</th>\n      <th>Y2018</th>\n      <th>Y2018F</th>\n      <th>Y2019</th>\n      <th>Y2019F</th>\n      <th>Continent</th>\n    </tr>\n  </thead>\n  <tbody>\n    <tr>\n      <th>0</th>\n      <td>8</td>\n      <td>Antigua and Barbuda</td>\n      <td>486</td>\n      <td>Bananas</td>\n      <td>5312</td>\n      <td>Area harvested</td>\n      <td>ha</td>\n      <td>NaN</td>\n      <td>NaN</td>\n      <td>NaN</td>\n      <td>...</td>\n      <td>Im</td>\n      <td>40.0</td>\n      <td>Im</td>\n      <td>42.0</td>\n      <td>Im</td>\n      <td>45.0</td>\n      <td>Im</td>\n      <td>49.0</td>\n      <td>Im</td>\n      <td>Americas</td>\n    </tr>\n    <tr>\n      <th>1</th>\n      <td>8</td>\n      <td>Antigua and Barbuda</td>\n      <td>486</td>\n      <td>Bananas</td>\n      <td>5419</td>\n      <td>Yield</td>\n      <td>hg/ha</td>\n      <td>NaN</td>\n      <td>NaN</td>\n      <td>NaN</td>\n      <td>...</td>\n      <td>Fc</td>\n      <td>66250.0</td>\n      <td>Fc</td>\n      <td>64048.0</td>\n      <td>Fc</td>\n      <td>60667.0</td>\n      <td>Fc</td>\n      <td>56327.0</td>\n      <td>Fc</td>\n      <td>Americas</td>\n    </tr>\n    <tr>\n      <th>2</th>\n      <td>8</td>\n      <td>Antigua and Barbuda</td>\n      <td>486</td>\n      <td>Bananas</td>\n      <td>5510</td>\n      <td>Production</td>\n      <td>tonnes</td>\n      <td>NaN</td>\n      <td>NaN</td>\n      <td>NaN</td>\n      <td>...</td>\n      <td>Im</td>\n      <td>265.0</td>\n      <td>Im</td>\n      <td>269.0</td>\n      <td>Im</td>\n      <td>273.0</td>\n      <td>Im</td>\n      <td>276.0</td>\n      <td>Im</td>\n      <td>Americas</td>\n    </tr>\n    <tr>\n      <th>3</th>\n      <td>8</td>\n      <td>Antigua and Barbuda</td>\n      <td>414</td>\n      <td>Beans, green</td>\n      <td>5312</td>\n      <td>Area harvested</td>\n      <td>ha</td>\n      <td>1.0</td>\n      <td>F</td>\n      <td>1.0</td>\n      <td>...</td>\n      <td>Im</td>\n      <td>25.0</td>\n      <td>Im</td>\n      <td>25.0</td>\n      <td>Im</td>\n      <td>25.0</td>\n      <td>Im</td>\n      <td>25.0</td>\n      <td>Im</td>\n      <td>Americas</td>\n    </tr>\n    <tr>\n      <th>4</th>\n      <td>8</td>\n      <td>Antigua and Barbuda</td>\n      <td>414</td>\n      <td>Beans, green</td>\n      <td>5419</td>\n      <td>Yield</td>\n      <td>hg/ha</td>\n      <td>40000.0</td>\n      <td>Fc</td>\n      <td>40000.0</td>\n      <td>...</td>\n      <td>Fc</td>\n      <td>40000.0</td>\n      <td>Fc</td>\n      <td>40400.0</td>\n      <td>Fc</td>\n      <td>40400.0</td>\n      <td>Fc</td>\n      <td>40800.0</td>\n      <td>Fc</td>\n      <td>Americas</td>\n    </tr>\n    <tr>\n      <th>...</th>\n      <td>...</td>\n      <td>...</td>\n      <td>...</td>\n      <td>...</td>\n      <td>...</td>\n      <td>...</td>\n      <td>...</td>\n      <td>...</td>\n      <td>...</td>\n      <td>...</td>\n      <td>...</td>\n      <td>...</td>\n      <td>...</td>\n      <td>...</td>\n      <td>...</td>\n      <td>...</td>\n      <td>...</td>\n      <td>...</td>\n      <td>...</td>\n      <td>...</td>\n      <td>...</td>\n    </tr>\n    <tr>\n      <th>9086</th>\n      <td>181</td>\n      <td>Zimbabwe</td>\n      <td>1729</td>\n      <td>Treenuts, Total</td>\n      <td>5419</td>\n      <td>Yield</td>\n      <td>hg/ha</td>\n      <td>NaN</td>\n      <td>NaN</td>\n      <td>NaN</td>\n      <td>...</td>\n      <td>Fc</td>\n      <td>17493.0</td>\n      <td>Fc</td>\n      <td>18038.0</td>\n      <td>Fc</td>\n      <td>18579.0</td>\n      <td>Fc</td>\n      <td>19122.0</td>\n      <td>Fc</td>\n      <td>Africa</td>\n    </tr>\n    <tr>\n      <th>9087</th>\n      <td>181</td>\n      <td>Zimbabwe</td>\n      <td>1729</td>\n      <td>Treenuts, Total</td>\n      <td>5510</td>\n      <td>Production</td>\n      <td>tonnes</td>\n      <td>NaN</td>\n      <td>A</td>\n      <td>NaN</td>\n      <td>...</td>\n      <td>A</td>\n      <td>6588.0</td>\n      <td>A</td>\n      <td>6490.0</td>\n      <td>A</td>\n      <td>6592.0</td>\n      <td>A</td>\n      <td>6643.0</td>\n      <td>A</td>\n      <td>Africa</td>\n    </tr>\n    <tr>\n      <th>9088</th>\n      <td>181</td>\n      <td>Zimbabwe</td>\n      <td>1735</td>\n      <td>Vegetables Primary</td>\n      <td>5312</td>\n      <td>Area harvested</td>\n      <td>ha</td>\n      <td>12296.0</td>\n      <td>A</td>\n      <td>12644.0</td>\n      <td>...</td>\n      <td>A</td>\n      <td>34443.0</td>\n      <td>A</td>\n      <td>34937.0</td>\n      <td>A</td>\n      <td>35467.0</td>\n      <td>A</td>\n      <td>35994.0</td>\n      <td>A</td>\n      <td>Africa</td>\n    </tr>\n    <tr>\n      <th>9089</th>\n      <td>181</td>\n      <td>Zimbabwe</td>\n      <td>1735</td>\n      <td>Vegetables Primary</td>\n      <td>5419</td>\n      <td>Yield</td>\n      <td>hg/ha</td>\n      <td>65324.0</td>\n      <td>Fc</td>\n      <td>65900.0</td>\n      <td>...</td>\n      <td>Fc</td>\n      <td>66788.0</td>\n      <td>Fc</td>\n      <td>66951.0</td>\n      <td>Fc</td>\n      <td>67043.0</td>\n      <td>Fc</td>\n      <td>67141.0</td>\n      <td>Fc</td>\n      <td>Africa</td>\n    </tr>\n    <tr>\n      <th>9090</th>\n      <td>181</td>\n      <td>Zimbabwe</td>\n      <td>1735</td>\n      <td>Vegetables Primary</td>\n      <td>5510</td>\n      <td>Production</td>\n      <td>tonnes</td>\n      <td>80322.0</td>\n      <td>A</td>\n      <td>83324.0</td>\n      <td>...</td>\n      <td>A</td>\n      <td>230038.0</td>\n      <td>A</td>\n      <td>233908.0</td>\n      <td>A</td>\n      <td>237783.0</td>\n      <td>A</td>\n      <td>241666.0</td>\n      <td>A</td>\n      <td>Africa</td>\n    </tr>\n  </tbody>\n</table>\n<p>38146 rows × 126 columns</p>\n</div>"
     },
     "execution_count": 653,
     "metadata": {},
     "output_type": "execute_result"
    }
   ],
   "source": [
    "df_world"
   ],
   "metadata": {
    "collapsed": false,
    "ExecuteTime": {
     "end_time": "2024-02-09T03:16:29.846486900Z",
     "start_time": "2024-02-09T03:16:29.349777700Z"
    }
   },
   "id": "c26472d57e096b9d",
   "execution_count": 653
  },
  {
   "cell_type": "code",
   "outputs": [
    {
     "name": "stdout",
     "output_type": "stream",
     "text": [
      "'df_world' possui 38146 linhas e 126 colunas.\n"
     ]
    }
   ],
   "source": [
    "exibir_shape(\"df_world\", df_world.shape)"
   ],
   "metadata": {
    "collapsed": false,
    "ExecuteTime": {
     "end_time": "2024-02-09T03:16:29.929228700Z",
     "start_time": "2024-02-09T03:16:29.747505Z"
    }
   },
   "id": "4a7d3914ffcf481c",
   "execution_count": 654
  },
  {
   "cell_type": "markdown",
   "source": [
    "* Colunas e seus respectivos tipos de dados"
   ],
   "metadata": {
    "collapsed": false
   },
   "id": "7688791f036dca49"
  },
  {
   "cell_type": "code",
   "outputs": [
    {
     "name": "stdout",
     "output_type": "stream",
     "text": [
      "<class 'pandas.core.frame.DataFrame'>\n",
      "Index: 38146 entries, 0 to 9090\n",
      "Columns: 126 entries, Area Code to Continent\n",
      "dtypes: float64(59), int64(3), object(64)\n",
      "memory usage: 37.0+ MB\n"
     ]
    }
   ],
   "source": [
    "df_world.info()"
   ],
   "metadata": {
    "collapsed": false,
    "ExecuteTime": {
     "end_time": "2024-02-09T03:16:30.073835700Z",
     "start_time": "2024-02-09T03:16:29.889487100Z"
    }
   },
   "id": "a685daa9a58b2ea5",
   "execution_count": 655
  },
  {
   "cell_type": "markdown",
   "source": [
    "* Atributos **categóricos**"
   ],
   "metadata": {
    "collapsed": false
   },
   "id": "77a15f97807255b3"
  },
  {
   "cell_type": "code",
   "outputs": [
    {
     "data": {
      "text/plain": "           count unique                      top   freq\nArea       38146    210          China, mainland    398\nItem       38146    175  Roots and Tubers, Total    618\nElement    38146      3               Production  13224\nUnit       38146      3                   tonnes  13224\nY1961F     19394      5                       Fc   7352\n...          ...    ...                      ...    ...\nY2016F     24009      6                       Fc  10981\nY2017F     23850      6                       Fc  10993\nY2018F     23171      6                       Fc  10732\nY2019F     24274      6                       Fc  10741\nContinent  38146      5                   Europe  10557\n\n[64 rows x 4 columns]",
      "text/html": "<div>\n<style scoped>\n    .dataframe tbody tr th:only-of-type {\n        vertical-align: middle;\n    }\n\n    .dataframe tbody tr th {\n        vertical-align: top;\n    }\n\n    .dataframe thead th {\n        text-align: right;\n    }\n</style>\n<table border=\"1\" class=\"dataframe\">\n  <thead>\n    <tr style=\"text-align: right;\">\n      <th></th>\n      <th>count</th>\n      <th>unique</th>\n      <th>top</th>\n      <th>freq</th>\n    </tr>\n  </thead>\n  <tbody>\n    <tr>\n      <th>Area</th>\n      <td>38146</td>\n      <td>210</td>\n      <td>China, mainland</td>\n      <td>398</td>\n    </tr>\n    <tr>\n      <th>Item</th>\n      <td>38146</td>\n      <td>175</td>\n      <td>Roots and Tubers, Total</td>\n      <td>618</td>\n    </tr>\n    <tr>\n      <th>Element</th>\n      <td>38146</td>\n      <td>3</td>\n      <td>Production</td>\n      <td>13224</td>\n    </tr>\n    <tr>\n      <th>Unit</th>\n      <td>38146</td>\n      <td>3</td>\n      <td>tonnes</td>\n      <td>13224</td>\n    </tr>\n    <tr>\n      <th>Y1961F</th>\n      <td>19394</td>\n      <td>5</td>\n      <td>Fc</td>\n      <td>7352</td>\n    </tr>\n    <tr>\n      <th>...</th>\n      <td>...</td>\n      <td>...</td>\n      <td>...</td>\n      <td>...</td>\n    </tr>\n    <tr>\n      <th>Y2016F</th>\n      <td>24009</td>\n      <td>6</td>\n      <td>Fc</td>\n      <td>10981</td>\n    </tr>\n    <tr>\n      <th>Y2017F</th>\n      <td>23850</td>\n      <td>6</td>\n      <td>Fc</td>\n      <td>10993</td>\n    </tr>\n    <tr>\n      <th>Y2018F</th>\n      <td>23171</td>\n      <td>6</td>\n      <td>Fc</td>\n      <td>10732</td>\n    </tr>\n    <tr>\n      <th>Y2019F</th>\n      <td>24274</td>\n      <td>6</td>\n      <td>Fc</td>\n      <td>10741</td>\n    </tr>\n    <tr>\n      <th>Continent</th>\n      <td>38146</td>\n      <td>5</td>\n      <td>Europe</td>\n      <td>10557</td>\n    </tr>\n  </tbody>\n</table>\n<p>64 rows × 4 columns</p>\n</div>"
     },
     "execution_count": 656,
     "metadata": {},
     "output_type": "execute_result"
    }
   ],
   "source": [
    "df_world.select_dtypes('object').describe().transpose()"
   ],
   "metadata": {
    "collapsed": false,
    "ExecuteTime": {
     "end_time": "2024-02-09T03:16:30.887848400Z",
     "start_time": "2024-02-09T03:16:30.078832200Z"
    }
   },
   "id": "bd92ad94d141d783",
   "execution_count": 656
  },
  {
   "cell_type": "markdown",
   "source": [
    "## 2.3 Dados faltantes"
   ],
   "metadata": {
    "collapsed": false
   },
   "id": "228aa362488b69d4"
  },
  {
   "cell_type": "code",
   "outputs": [],
   "source": [
    "def stats_dados_faltantes(df: pd.DataFrame) -> None:\n",
    "    \"\"\"\n",
    "    Calculate statistics for missing data in a DataFrame.\n",
    "    :param df: The DataFrame to analyze.\n",
    "    \"\"\"\n",
    "    stats_data_missing = []\n",
    "    for col in df.columns:\n",
    "        if df[col].isna().any():\n",
    "            qtd, _ = df[df[col].isna()].shape\n",
    "            total, _ = df.shape\n",
    "            dict_dados_faltantes = {col: {'quantidade': qtd, \"porcentagem\": round(100 * qtd / total, 2)}}\n",
    "            stats_data_missing.append(dict_dados_faltantes)\n",
    "\n",
    "    for stat in stats_data_missing:\n",
    "        print(stat)"
   ],
   "metadata": {
    "collapsed": false,
    "ExecuteTime": {
     "end_time": "2024-02-09T03:16:30.929853100Z",
     "start_time": "2024-02-09T03:16:30.474765400Z"
    }
   },
   "id": "8cf58cc9f5424776",
   "execution_count": 657
  },
  {
   "cell_type": "code",
   "outputs": [
    {
     "name": "stdout",
     "output_type": "stream",
     "text": [
      "{'Y1961': {'quantidade': 15507, 'porcentagem': 40.65}}\n",
      "{'Y1961F': {'quantidade': 18752, 'porcentagem': 49.16}}\n",
      "{'Y1962': {'quantidade': 15488, 'porcentagem': 40.6}}\n",
      "{'Y1962F': {'quantidade': 18759, 'porcentagem': 49.18}}\n",
      "{'Y1963': {'quantidade': 15490, 'porcentagem': 40.61}}\n",
      "{'Y1963F': {'quantidade': 18968, 'porcentagem': 49.72}}\n",
      "{'Y1964': {'quantidade': 15463, 'porcentagem': 40.54}}\n",
      "{'Y1964F': {'quantidade': 19045, 'porcentagem': 49.93}}\n",
      "{'Y1965': {'quantidade': 15463, 'porcentagem': 40.54}}\n",
      "{'Y1965F': {'quantidade': 19282, 'porcentagem': 50.55}}\n",
      "{'Y1966': {'quantidade': 15366, 'porcentagem': 40.28}}\n",
      "{'Y1966F': {'quantidade': 19377, 'porcentagem': 50.8}}\n",
      "{'Y1967': {'quantidade': 15331, 'porcentagem': 40.19}}\n",
      "{'Y1967F': {'quantidade': 19322, 'porcentagem': 50.65}}\n",
      "{'Y1968': {'quantidade': 15268, 'porcentagem': 40.03}}\n",
      "{'Y1968F': {'quantidade': 19380, 'porcentagem': 50.8}}\n",
      "{'Y1969': {'quantidade': 15235, 'porcentagem': 39.94}}\n",
      "{'Y1969F': {'quantidade': 19359, 'porcentagem': 50.75}}\n",
      "{'Y1970': {'quantidade': 15149, 'porcentagem': 39.71}}\n",
      "{'Y1970F': {'quantidade': 19518, 'porcentagem': 51.17}}\n",
      "{'Y1971': {'quantidade': 15076, 'porcentagem': 39.52}}\n",
      "{'Y1971F': {'quantidade': 19584, 'porcentagem': 51.34}}\n",
      "{'Y1972': {'quantidade': 15047, 'porcentagem': 39.45}}\n",
      "{'Y1972F': {'quantidade': 19457, 'porcentagem': 51.01}}\n",
      "{'Y1973': {'quantidade': 15048, 'porcentagem': 39.45}}\n",
      "{'Y1973F': {'quantidade': 19618, 'porcentagem': 51.43}}\n",
      "{'Y1974': {'quantidade': 14989, 'porcentagem': 39.29}}\n",
      "{'Y1974F': {'quantidade': 19471, 'porcentagem': 51.04}}\n",
      "{'Y1975': {'quantidade': 14854, 'porcentagem': 38.94}}\n",
      "{'Y1975F': {'quantidade': 19523, 'porcentagem': 51.18}}\n",
      "{'Y1976': {'quantidade': 14793, 'porcentagem': 38.78}}\n",
      "{'Y1976F': {'quantidade': 19474, 'porcentagem': 51.05}}\n",
      "{'Y1977': {'quantidade': 14635, 'porcentagem': 38.37}}\n",
      "{'Y1977F': {'quantidade': 19367, 'porcentagem': 50.77}}\n",
      "{'Y1978': {'quantidade': 14598, 'porcentagem': 38.27}}\n",
      "{'Y1978F': {'quantidade': 19394, 'porcentagem': 50.84}}\n",
      "{'Y1979': {'quantidade': 14433, 'porcentagem': 37.84}}\n",
      "{'Y1979F': {'quantidade': 19203, 'porcentagem': 50.34}}\n",
      "{'Y1980': {'quantidade': 14217, 'porcentagem': 37.27}}\n",
      "{'Y1980F': {'quantidade': 19216, 'porcentagem': 50.37}}\n",
      "{'Y1981': {'quantidade': 14127, 'porcentagem': 37.03}}\n",
      "{'Y1981F': {'quantidade': 19301, 'porcentagem': 50.6}}\n",
      "{'Y1982': {'quantidade': 14052, 'porcentagem': 36.84}}\n",
      "{'Y1982F': {'quantidade': 19311, 'porcentagem': 50.62}}\n",
      "{'Y1983': {'quantidade': 13995, 'porcentagem': 36.69}}\n",
      "{'Y1983F': {'quantidade': 19055, 'porcentagem': 49.95}}\n",
      "{'Y1984': {'quantidade': 13933, 'porcentagem': 36.53}}\n",
      "{'Y1984F': {'quantidade': 19150, 'porcentagem': 50.2}}\n",
      "{'Y1985': {'quantidade': 12466, 'porcentagem': 32.68}}\n",
      "{'Y1985F': {'quantidade': 18313, 'porcentagem': 48.01}}\n",
      "{'Y1986': {'quantidade': 12302, 'porcentagem': 32.25}}\n",
      "{'Y1986F': {'quantidade': 18207, 'porcentagem': 47.73}}\n",
      "{'Y1987': {'quantidade': 12184, 'porcentagem': 31.94}}\n",
      "{'Y1987F': {'quantidade': 18370, 'porcentagem': 48.16}}\n",
      "{'Y1988': {'quantidade': 12033, 'porcentagem': 31.54}}\n",
      "{'Y1988F': {'quantidade': 18355, 'porcentagem': 48.12}}\n",
      "{'Y1989': {'quantidade': 11882, 'porcentagem': 31.15}}\n",
      "{'Y1989F': {'quantidade': 18406, 'porcentagem': 48.25}}\n",
      "{'Y1990': {'quantidade': 10676, 'porcentagem': 27.99}}\n",
      "{'Y1990F': {'quantidade': 18135, 'porcentagem': 47.54}}\n",
      "{'Y1991': {'quantidade': 10452, 'porcentagem': 27.4}}\n",
      "{'Y1991F': {'quantidade': 17560, 'porcentagem': 46.03}}\n",
      "{'Y1992': {'quantidade': 7434, 'porcentagem': 19.49}}\n",
      "{'Y1992F': {'quantidade': 15116, 'porcentagem': 39.63}}\n",
      "{'Y1993': {'quantidade': 7207, 'porcentagem': 18.89}}\n",
      "{'Y1993F': {'quantidade': 14467, 'porcentagem': 37.93}}\n",
      "{'Y1994': {'quantidade': 6925, 'porcentagem': 18.15}}\n",
      "{'Y1994F': {'quantidade': 14367, 'porcentagem': 37.66}}\n",
      "{'Y1995': {'quantidade': 6748, 'porcentagem': 17.69}}\n",
      "{'Y1995F': {'quantidade': 14256, 'porcentagem': 37.37}}\n",
      "{'Y1996': {'quantidade': 6666, 'porcentagem': 17.47}}\n",
      "{'Y1996F': {'quantidade': 14301, 'porcentagem': 37.49}}\n",
      "{'Y1997': {'quantidade': 6492, 'porcentagem': 17.02}}\n",
      "{'Y1997F': {'quantidade': 14159, 'porcentagem': 37.12}}\n",
      "{'Y1998': {'quantidade': 6355, 'porcentagem': 16.66}}\n",
      "{'Y1998F': {'quantidade': 14421, 'porcentagem': 37.8}}\n",
      "{'Y1999': {'quantidade': 6130, 'porcentagem': 16.07}}\n",
      "{'Y1999F': {'quantidade': 14371, 'porcentagem': 37.67}}\n",
      "{'Y2000': {'quantidade': 5794, 'porcentagem': 15.19}}\n",
      "{'Y2000F': {'quantidade': 14469, 'porcentagem': 37.93}}\n",
      "{'Y2001': {'quantidade': 5715, 'porcentagem': 14.98}}\n",
      "{'Y2001F': {'quantidade': 14376, 'porcentagem': 37.69}}\n",
      "{'Y2002': {'quantidade': 5661, 'porcentagem': 14.84}}\n",
      "{'Y2002F': {'quantidade': 14471, 'porcentagem': 37.94}}\n",
      "{'Y2003': {'quantidade': 5384, 'porcentagem': 14.11}}\n",
      "{'Y2003F': {'quantidade': 14636, 'porcentagem': 38.37}}\n",
      "{'Y2004': {'quantidade': 5208, 'porcentagem': 13.65}}\n",
      "{'Y2004F': {'quantidade': 14680, 'porcentagem': 38.48}}\n",
      "{'Y2005': {'quantidade': 5150, 'porcentagem': 13.5}}\n",
      "{'Y2005F': {'quantidade': 14699, 'porcentagem': 38.53}}\n",
      "{'Y2006': {'quantidade': 4967, 'porcentagem': 13.02}}\n",
      "{'Y2006F': {'quantidade': 14411, 'porcentagem': 37.78}}\n",
      "{'Y2007': {'quantidade': 5419, 'porcentagem': 14.21}}\n",
      "{'Y2007F': {'quantidade': 14951, 'porcentagem': 39.19}}\n",
      "{'Y2008': {'quantidade': 5400, 'porcentagem': 14.16}}\n",
      "{'Y2008F': {'quantidade': 14988, 'porcentagem': 39.29}}\n",
      "{'Y2009': {'quantidade': 5375, 'porcentagem': 14.09}}\n",
      "{'Y2009F': {'quantidade': 14940, 'porcentagem': 39.17}}\n",
      "{'Y2010': {'quantidade': 5310, 'porcentagem': 13.92}}\n",
      "{'Y2010F': {'quantidade': 14944, 'porcentagem': 39.18}}\n",
      "{'Y2011': {'quantidade': 5298, 'porcentagem': 13.89}}\n",
      "{'Y2011F': {'quantidade': 14891, 'porcentagem': 39.04}}\n",
      "{'Y2012': {'quantidade': 5213, 'porcentagem': 13.67}}\n",
      "{'Y2012F': {'quantidade': 14719, 'porcentagem': 38.59}}\n",
      "{'Y2013': {'quantidade': 5213, 'porcentagem': 13.67}}\n",
      "{'Y2013F': {'quantidade': 14649, 'porcentagem': 38.4}}\n",
      "{'Y2014': {'quantidade': 5159, 'porcentagem': 13.52}}\n",
      "{'Y2014F': {'quantidade': 14669, 'porcentagem': 38.45}}\n",
      "{'Y2015': {'quantidade': 5136, 'porcentagem': 13.46}}\n",
      "{'Y2015F': {'quantidade': 14210, 'porcentagem': 37.25}}\n",
      "{'Y2016': {'quantidade': 5104, 'porcentagem': 13.38}}\n",
      "{'Y2016F': {'quantidade': 14137, 'porcentagem': 37.06}}\n",
      "{'Y2017': {'quantidade': 5046, 'porcentagem': 13.23}}\n",
      "{'Y2017F': {'quantidade': 14296, 'porcentagem': 37.48}}\n",
      "{'Y2018': {'quantidade': 4754, 'porcentagem': 12.46}}\n",
      "{'Y2018F': {'quantidade': 14975, 'porcentagem': 39.26}}\n",
      "{'Y2019': {'quantidade': 4709, 'porcentagem': 12.34}}\n",
      "{'Y2019F': {'quantidade': 13872, 'porcentagem': 36.37}}\n"
     ]
    }
   ],
   "source": [
    "stats_dados_faltantes(df_world)"
   ],
   "metadata": {
    "collapsed": false,
    "ExecuteTime": {
     "end_time": "2024-02-09T03:16:33.673222200Z",
     "start_time": "2024-02-09T03:16:30.480849200Z"
    }
   },
   "id": "cd1a74cec6d0f453",
   "execution_count": 658
  },
  {
   "cell_type": "code",
   "outputs": [
    {
     "data": {
      "text/plain": "      Area Code                 Area  Item Code                Item  \\\n0             8  Antigua and Barbuda        486             Bananas   \n1             8  Antigua and Barbuda        486             Bananas   \n2             8  Antigua and Barbuda        486             Bananas   \n3             8  Antigua and Barbuda        414        Beans, green   \n4             8  Antigua and Barbuda        414        Beans, green   \n...         ...                  ...        ...                 ...   \n9086        181             Zimbabwe       1729     Treenuts, Total   \n9087        181             Zimbabwe       1729     Treenuts, Total   \n9088        181             Zimbabwe       1735  Vegetables Primary   \n9089        181             Zimbabwe       1735  Vegetables Primary   \n9090        181             Zimbabwe       1735  Vegetables Primary   \n\n      Element Code         Element    Unit    Y1961 Y1961F    Y1962  ...  \\\n0             5312  Area harvested      ha      NaN    NaN      NaN  ...   \n1             5419           Yield   hg/ha      NaN    NaN      NaN  ...   \n2             5510      Production  tonnes      NaN    NaN      NaN  ...   \n3             5312  Area harvested      ha      1.0      F      1.0  ...   \n4             5419           Yield   hg/ha  40000.0     Fc  40000.0  ...   \n...            ...             ...     ...      ...    ...      ...  ...   \n9086          5419           Yield   hg/ha      NaN    NaN      NaN  ...   \n9087          5510      Production  tonnes      NaN      A      NaN  ...   \n9088          5312  Area harvested      ha  12296.0      A  12644.0  ...   \n9089          5419           Yield   hg/ha  65324.0     Fc  65900.0  ...   \n9090          5510      Production  tonnes  80322.0      A  83324.0  ...   \n\n     Y2015F     Y2016 Y2016F     Y2017 Y2017F     Y2018 Y2018F     Y2019  \\\n0        Im      40.0     Im      42.0     Im      45.0     Im      49.0   \n1        Fc   66250.0     Fc   64048.0     Fc   60667.0     Fc   56327.0   \n2        Im     265.0     Im     269.0     Im     273.0     Im     276.0   \n3        Im      25.0     Im      25.0     Im      25.0     Im      25.0   \n4        Fc   40000.0     Fc   40400.0     Fc   40400.0     Fc   40800.0   \n...     ...       ...    ...       ...    ...       ...    ...       ...   \n9086     Fc   17493.0     Fc   18038.0     Fc   18579.0     Fc   19122.0   \n9087      A    6588.0      A    6490.0      A    6592.0      A    6643.0   \n9088      A   34443.0      A   34937.0      A   35467.0      A   35994.0   \n9089     Fc   66788.0     Fc   66951.0     Fc   67043.0     Fc   67141.0   \n9090      A  230038.0      A  233908.0      A  237783.0      A  241666.0   \n\n     Y2019F  Continent  \n0        Im   Americas  \n1        Fc   Americas  \n2        Im   Americas  \n3        Im   Americas  \n4        Fc   Americas  \n...     ...        ...  \n9086     Fc     Africa  \n9087      A     Africa  \n9088      A     Africa  \n9089     Fc     Africa  \n9090      A     Africa  \n\n[38146 rows x 126 columns]",
      "text/html": "<div>\n<style scoped>\n    .dataframe tbody tr th:only-of-type {\n        vertical-align: middle;\n    }\n\n    .dataframe tbody tr th {\n        vertical-align: top;\n    }\n\n    .dataframe thead th {\n        text-align: right;\n    }\n</style>\n<table border=\"1\" class=\"dataframe\">\n  <thead>\n    <tr style=\"text-align: right;\">\n      <th></th>\n      <th>Area Code</th>\n      <th>Area</th>\n      <th>Item Code</th>\n      <th>Item</th>\n      <th>Element Code</th>\n      <th>Element</th>\n      <th>Unit</th>\n      <th>Y1961</th>\n      <th>Y1961F</th>\n      <th>Y1962</th>\n      <th>...</th>\n      <th>Y2015F</th>\n      <th>Y2016</th>\n      <th>Y2016F</th>\n      <th>Y2017</th>\n      <th>Y2017F</th>\n      <th>Y2018</th>\n      <th>Y2018F</th>\n      <th>Y2019</th>\n      <th>Y2019F</th>\n      <th>Continent</th>\n    </tr>\n  </thead>\n  <tbody>\n    <tr>\n      <th>0</th>\n      <td>8</td>\n      <td>Antigua and Barbuda</td>\n      <td>486</td>\n      <td>Bananas</td>\n      <td>5312</td>\n      <td>Area harvested</td>\n      <td>ha</td>\n      <td>NaN</td>\n      <td>NaN</td>\n      <td>NaN</td>\n      <td>...</td>\n      <td>Im</td>\n      <td>40.0</td>\n      <td>Im</td>\n      <td>42.0</td>\n      <td>Im</td>\n      <td>45.0</td>\n      <td>Im</td>\n      <td>49.0</td>\n      <td>Im</td>\n      <td>Americas</td>\n    </tr>\n    <tr>\n      <th>1</th>\n      <td>8</td>\n      <td>Antigua and Barbuda</td>\n      <td>486</td>\n      <td>Bananas</td>\n      <td>5419</td>\n      <td>Yield</td>\n      <td>hg/ha</td>\n      <td>NaN</td>\n      <td>NaN</td>\n      <td>NaN</td>\n      <td>...</td>\n      <td>Fc</td>\n      <td>66250.0</td>\n      <td>Fc</td>\n      <td>64048.0</td>\n      <td>Fc</td>\n      <td>60667.0</td>\n      <td>Fc</td>\n      <td>56327.0</td>\n      <td>Fc</td>\n      <td>Americas</td>\n    </tr>\n    <tr>\n      <th>2</th>\n      <td>8</td>\n      <td>Antigua and Barbuda</td>\n      <td>486</td>\n      <td>Bananas</td>\n      <td>5510</td>\n      <td>Production</td>\n      <td>tonnes</td>\n      <td>NaN</td>\n      <td>NaN</td>\n      <td>NaN</td>\n      <td>...</td>\n      <td>Im</td>\n      <td>265.0</td>\n      <td>Im</td>\n      <td>269.0</td>\n      <td>Im</td>\n      <td>273.0</td>\n      <td>Im</td>\n      <td>276.0</td>\n      <td>Im</td>\n      <td>Americas</td>\n    </tr>\n    <tr>\n      <th>3</th>\n      <td>8</td>\n      <td>Antigua and Barbuda</td>\n      <td>414</td>\n      <td>Beans, green</td>\n      <td>5312</td>\n      <td>Area harvested</td>\n      <td>ha</td>\n      <td>1.0</td>\n      <td>F</td>\n      <td>1.0</td>\n      <td>...</td>\n      <td>Im</td>\n      <td>25.0</td>\n      <td>Im</td>\n      <td>25.0</td>\n      <td>Im</td>\n      <td>25.0</td>\n      <td>Im</td>\n      <td>25.0</td>\n      <td>Im</td>\n      <td>Americas</td>\n    </tr>\n    <tr>\n      <th>4</th>\n      <td>8</td>\n      <td>Antigua and Barbuda</td>\n      <td>414</td>\n      <td>Beans, green</td>\n      <td>5419</td>\n      <td>Yield</td>\n      <td>hg/ha</td>\n      <td>40000.0</td>\n      <td>Fc</td>\n      <td>40000.0</td>\n      <td>...</td>\n      <td>Fc</td>\n      <td>40000.0</td>\n      <td>Fc</td>\n      <td>40400.0</td>\n      <td>Fc</td>\n      <td>40400.0</td>\n      <td>Fc</td>\n      <td>40800.0</td>\n      <td>Fc</td>\n      <td>Americas</td>\n    </tr>\n    <tr>\n      <th>...</th>\n      <td>...</td>\n      <td>...</td>\n      <td>...</td>\n      <td>...</td>\n      <td>...</td>\n      <td>...</td>\n      <td>...</td>\n      <td>...</td>\n      <td>...</td>\n      <td>...</td>\n      <td>...</td>\n      <td>...</td>\n      <td>...</td>\n      <td>...</td>\n      <td>...</td>\n      <td>...</td>\n      <td>...</td>\n      <td>...</td>\n      <td>...</td>\n      <td>...</td>\n      <td>...</td>\n    </tr>\n    <tr>\n      <th>9086</th>\n      <td>181</td>\n      <td>Zimbabwe</td>\n      <td>1729</td>\n      <td>Treenuts, Total</td>\n      <td>5419</td>\n      <td>Yield</td>\n      <td>hg/ha</td>\n      <td>NaN</td>\n      <td>NaN</td>\n      <td>NaN</td>\n      <td>...</td>\n      <td>Fc</td>\n      <td>17493.0</td>\n      <td>Fc</td>\n      <td>18038.0</td>\n      <td>Fc</td>\n      <td>18579.0</td>\n      <td>Fc</td>\n      <td>19122.0</td>\n      <td>Fc</td>\n      <td>Africa</td>\n    </tr>\n    <tr>\n      <th>9087</th>\n      <td>181</td>\n      <td>Zimbabwe</td>\n      <td>1729</td>\n      <td>Treenuts, Total</td>\n      <td>5510</td>\n      <td>Production</td>\n      <td>tonnes</td>\n      <td>NaN</td>\n      <td>A</td>\n      <td>NaN</td>\n      <td>...</td>\n      <td>A</td>\n      <td>6588.0</td>\n      <td>A</td>\n      <td>6490.0</td>\n      <td>A</td>\n      <td>6592.0</td>\n      <td>A</td>\n      <td>6643.0</td>\n      <td>A</td>\n      <td>Africa</td>\n    </tr>\n    <tr>\n      <th>9088</th>\n      <td>181</td>\n      <td>Zimbabwe</td>\n      <td>1735</td>\n      <td>Vegetables Primary</td>\n      <td>5312</td>\n      <td>Area harvested</td>\n      <td>ha</td>\n      <td>12296.0</td>\n      <td>A</td>\n      <td>12644.0</td>\n      <td>...</td>\n      <td>A</td>\n      <td>34443.0</td>\n      <td>A</td>\n      <td>34937.0</td>\n      <td>A</td>\n      <td>35467.0</td>\n      <td>A</td>\n      <td>35994.0</td>\n      <td>A</td>\n      <td>Africa</td>\n    </tr>\n    <tr>\n      <th>9089</th>\n      <td>181</td>\n      <td>Zimbabwe</td>\n      <td>1735</td>\n      <td>Vegetables Primary</td>\n      <td>5419</td>\n      <td>Yield</td>\n      <td>hg/ha</td>\n      <td>65324.0</td>\n      <td>Fc</td>\n      <td>65900.0</td>\n      <td>...</td>\n      <td>Fc</td>\n      <td>66788.0</td>\n      <td>Fc</td>\n      <td>66951.0</td>\n      <td>Fc</td>\n      <td>67043.0</td>\n      <td>Fc</td>\n      <td>67141.0</td>\n      <td>Fc</td>\n      <td>Africa</td>\n    </tr>\n    <tr>\n      <th>9090</th>\n      <td>181</td>\n      <td>Zimbabwe</td>\n      <td>1735</td>\n      <td>Vegetables Primary</td>\n      <td>5510</td>\n      <td>Production</td>\n      <td>tonnes</td>\n      <td>80322.0</td>\n      <td>A</td>\n      <td>83324.0</td>\n      <td>...</td>\n      <td>A</td>\n      <td>230038.0</td>\n      <td>A</td>\n      <td>233908.0</td>\n      <td>A</td>\n      <td>237783.0</td>\n      <td>A</td>\n      <td>241666.0</td>\n      <td>A</td>\n      <td>Africa</td>\n    </tr>\n  </tbody>\n</table>\n<p>38146 rows × 126 columns</p>\n</div>"
     },
     "execution_count": 659,
     "metadata": {},
     "output_type": "execute_result"
    }
   ],
   "source": [
    "df_world"
   ],
   "metadata": {
    "collapsed": false,
    "ExecuteTime": {
     "end_time": "2024-02-09T03:16:33.753550400Z",
     "start_time": "2024-02-09T03:16:33.676278800Z"
    }
   },
   "id": "870db1dfd23fdf00",
   "execution_count": 659
  },
  {
   "cell_type": "markdown",
   "source": [
    "# 3. Tratamento e limpeza de dados"
   ],
   "metadata": {
    "collapsed": false
   },
   "id": "3104bcbbc4671685"
  },
  {
   "cell_type": "markdown",
   "source": [
    "## 3.1 Removendo outliers"
   ],
   "metadata": {
    "collapsed": false
   },
   "id": "5a969e0332b42c0d"
  },
  {
   "cell_type": "code",
   "outputs": [],
   "source": [
    "def calculate_iqr(*, df: pd.DataFrame) -> pd.Series:\n",
    "    \"\"\"\n",
    "    Calculate the Interquartile Range (IQR) for a given DataFrame.\n",
    "    :param df: A pandas DataFrame containing the data.\n",
    "    :return: A Pandas Series representing the IQR.\n",
    "    \"\"\"\n",
    "    q1 = df.quantile(0.25)\n",
    "    q3 = df.quantile(0.75)\n",
    "    return q3 - q1"
   ],
   "metadata": {
    "collapsed": false,
    "ExecuteTime": {
     "end_time": "2024-02-09T03:16:33.755551400Z",
     "start_time": "2024-02-09T03:16:33.746339500Z"
    }
   },
   "id": "78e57e04204b223",
   "execution_count": 660
  },
  {
   "cell_type": "code",
   "outputs": [],
   "source": [
    "def remove_outliers(*, df: pd.DataFrame) -> pd.DataFrame:\n",
    "    \"\"\"\n",
    "    Remove outliers from a pandas DataFrame.\n",
    "    :param df: The input DataFrame.\n",
    "    :return: The DataFrame with outliers was removed.\n",
    "    \"\"\"\n",
    "    iqr_multiplier = 1.5\n",
    "    numerical_data = df.iloc[:, 7:].select_dtypes(include='number')\n",
    "\n",
    "    iqr = calculate_iqr(df=numerical_data)\n",
    "    lower_threshold = numerical_data.quantile(0.25) - iqr_multiplier * iqr\n",
    "    upper_threshold = numerical_data.quantile(0.75) + iqr_multiplier * iqr\n",
    "\n",
    "    df[numerical_data.columns] = numerical_data.clip(lower_threshold, upper_threshold, axis=1)\n",
    "    return df"
   ],
   "metadata": {
    "collapsed": false,
    "ExecuteTime": {
     "end_time": "2024-02-09T03:16:33.817789700Z",
     "start_time": "2024-02-09T03:16:33.755551400Z"
    }
   },
   "id": "75a9f7334112e818",
   "execution_count": 661
  },
  {
   "cell_type": "code",
   "outputs": [],
   "source": [
    "df_world = remove_outliers(df=df_world.copy())"
   ],
   "metadata": {
    "collapsed": false,
    "ExecuteTime": {
     "end_time": "2024-02-09T03:16:34.176793100Z",
     "start_time": "2024-02-09T03:16:33.766793100Z"
    }
   },
   "id": "9e89a1386a9519dc",
   "execution_count": 662
  },
  {
   "cell_type": "markdown",
   "source": [
    "Substituindo os valores *NaN* das colunas de **flag**\n",
    "Conforme diz a tabela que os valores nulos representam dados oficiais, eu decidi alterar para **Of**.\n",
    "Essa mudança irá representá-los melhor e facilitará as análises."
   ],
   "metadata": {
    "collapsed": false
   },
   "id": "c2ea3675b5dabd66"
  },
  {
   "cell_type": "code",
   "outputs": [],
   "source": [
    "# Selecionando colunas do tipo 'object'\n",
    "text_columns = df_world.select_dtypes(include='object').columns\n",
    "\n",
    "# Substituindo todos os valores vazios dessas colunas por 'Of'\n",
    "df_world[text_columns] = df_world[text_columns].fillna('Of')"
   ],
   "metadata": {
    "collapsed": false,
    "ExecuteTime": {
     "end_time": "2024-02-09T03:16:34.447143500Z",
     "start_time": "2024-02-09T03:16:34.178788300Z"
    }
   },
   "id": "5b6a4c614e293375",
   "execution_count": 663
  },
  {
   "cell_type": "markdown",
   "source": [
    "Substituindo os valores *NaN* das colunas **numéricas**"
   ],
   "metadata": {
    "collapsed": false
   },
   "id": "30e877dee764ecf9"
  },
  {
   "cell_type": "code",
   "outputs": [],
   "source": [
    "# Selecionando colunas do tipo 'number'\n",
    "numeric_columns = df_world.select_dtypes(include='number').columns\n",
    "\n",
    "# Substituindo todos os valores vazios dessas colunas pela mediana\n",
    "df_world[numeric_columns] = df_world[numeric_columns].fillna(df_world[numeric_columns].median())"
   ],
   "metadata": {
    "collapsed": false,
    "ExecuteTime": {
     "end_time": "2024-02-09T03:16:34.637146700Z",
     "start_time": "2024-02-09T03:16:34.452142600Z"
    }
   },
   "id": "52f7e31ff9e54a40",
   "execution_count": 664
  },
  {
   "cell_type": "code",
   "outputs": [
    {
     "data": {
      "text/plain": "      Area Code                 Area  Item Code                Item  \\\n0             8  Antigua and Barbuda        486             Bananas   \n1             8  Antigua and Barbuda        486             Bananas   \n2             8  Antigua and Barbuda        486             Bananas   \n3             8  Antigua and Barbuda        414        Beans, green   \n4             8  Antigua and Barbuda        414        Beans, green   \n...         ...                  ...        ...                 ...   \n9086        181             Zimbabwe       1729     Treenuts, Total   \n9087        181             Zimbabwe       1729     Treenuts, Total   \n9088        181             Zimbabwe       1735  Vegetables Primary   \n9089        181             Zimbabwe       1735  Vegetables Primary   \n9090        181             Zimbabwe       1735  Vegetables Primary   \n\n      Element Code         Element    Unit    Y1961 Y1961F    Y1962  ...  \\\n0             5312  Area harvested      ha  15417.0     Of  15970.0  ...   \n1             5419           Yield   hg/ha  15417.0     Of  15970.0  ...   \n2             5510      Production  tonnes  15417.0     Of  15970.0  ...   \n3             5312  Area harvested      ha      1.0      F      1.0  ...   \n4             5419           Yield   hg/ha  40000.0     Fc  40000.0  ...   \n...            ...             ...     ...      ...    ...      ...  ...   \n9086          5419           Yield   hg/ha  15417.0     Of  15970.0  ...   \n9087          5510      Production  tonnes  15417.0      A  15970.0  ...   \n9088          5312  Area harvested      ha  12296.0      A  12644.0  ...   \n9089          5419           Yield   hg/ha  65324.0     Fc  65900.0  ...   \n9090          5510      Production  tonnes  80322.0      A  83324.0  ...   \n\n     Y2015F     Y2016 Y2016F     Y2017 Y2017F     Y2018 Y2018F     Y2019  \\\n0        Im      40.0     Im      42.0     Im      45.0     Im      49.0   \n1        Fc   66250.0     Fc   64048.0     Fc   60667.0     Fc   56327.0   \n2        Im     265.0     Im     269.0     Im     273.0     Im     276.0   \n3        Im      25.0     Im      25.0     Im      25.0     Im      25.0   \n4        Fc   40000.0     Fc   40400.0     Fc   40400.0     Fc   40800.0   \n...     ...       ...    ...       ...    ...       ...    ...       ...   \n9086     Fc   17493.0     Fc   18038.0     Fc   18579.0     Fc   19122.0   \n9087      A    6588.0      A    6490.0      A    6592.0      A    6643.0   \n9088      A   34443.0      A   34937.0      A   35467.0      A   35994.0   \n9089     Fc   66788.0     Fc   66951.0     Fc   67043.0     Fc   67141.0   \n9090      A  230038.0      A  233908.0      A  237783.0      A  241666.0   \n\n     Y2019F  Continent  \n0        Im   Americas  \n1        Fc   Americas  \n2        Im   Americas  \n3        Im   Americas  \n4        Fc   Americas  \n...     ...        ...  \n9086     Fc     Africa  \n9087      A     Africa  \n9088      A     Africa  \n9089     Fc     Africa  \n9090      A     Africa  \n\n[38146 rows x 126 columns]",
      "text/html": "<div>\n<style scoped>\n    .dataframe tbody tr th:only-of-type {\n        vertical-align: middle;\n    }\n\n    .dataframe tbody tr th {\n        vertical-align: top;\n    }\n\n    .dataframe thead th {\n        text-align: right;\n    }\n</style>\n<table border=\"1\" class=\"dataframe\">\n  <thead>\n    <tr style=\"text-align: right;\">\n      <th></th>\n      <th>Area Code</th>\n      <th>Area</th>\n      <th>Item Code</th>\n      <th>Item</th>\n      <th>Element Code</th>\n      <th>Element</th>\n      <th>Unit</th>\n      <th>Y1961</th>\n      <th>Y1961F</th>\n      <th>Y1962</th>\n      <th>...</th>\n      <th>Y2015F</th>\n      <th>Y2016</th>\n      <th>Y2016F</th>\n      <th>Y2017</th>\n      <th>Y2017F</th>\n      <th>Y2018</th>\n      <th>Y2018F</th>\n      <th>Y2019</th>\n      <th>Y2019F</th>\n      <th>Continent</th>\n    </tr>\n  </thead>\n  <tbody>\n    <tr>\n      <th>0</th>\n      <td>8</td>\n      <td>Antigua and Barbuda</td>\n      <td>486</td>\n      <td>Bananas</td>\n      <td>5312</td>\n      <td>Area harvested</td>\n      <td>ha</td>\n      <td>15417.0</td>\n      <td>Of</td>\n      <td>15970.0</td>\n      <td>...</td>\n      <td>Im</td>\n      <td>40.0</td>\n      <td>Im</td>\n      <td>42.0</td>\n      <td>Im</td>\n      <td>45.0</td>\n      <td>Im</td>\n      <td>49.0</td>\n      <td>Im</td>\n      <td>Americas</td>\n    </tr>\n    <tr>\n      <th>1</th>\n      <td>8</td>\n      <td>Antigua and Barbuda</td>\n      <td>486</td>\n      <td>Bananas</td>\n      <td>5419</td>\n      <td>Yield</td>\n      <td>hg/ha</td>\n      <td>15417.0</td>\n      <td>Of</td>\n      <td>15970.0</td>\n      <td>...</td>\n      <td>Fc</td>\n      <td>66250.0</td>\n      <td>Fc</td>\n      <td>64048.0</td>\n      <td>Fc</td>\n      <td>60667.0</td>\n      <td>Fc</td>\n      <td>56327.0</td>\n      <td>Fc</td>\n      <td>Americas</td>\n    </tr>\n    <tr>\n      <th>2</th>\n      <td>8</td>\n      <td>Antigua and Barbuda</td>\n      <td>486</td>\n      <td>Bananas</td>\n      <td>5510</td>\n      <td>Production</td>\n      <td>tonnes</td>\n      <td>15417.0</td>\n      <td>Of</td>\n      <td>15970.0</td>\n      <td>...</td>\n      <td>Im</td>\n      <td>265.0</td>\n      <td>Im</td>\n      <td>269.0</td>\n      <td>Im</td>\n      <td>273.0</td>\n      <td>Im</td>\n      <td>276.0</td>\n      <td>Im</td>\n      <td>Americas</td>\n    </tr>\n    <tr>\n      <th>3</th>\n      <td>8</td>\n      <td>Antigua and Barbuda</td>\n      <td>414</td>\n      <td>Beans, green</td>\n      <td>5312</td>\n      <td>Area harvested</td>\n      <td>ha</td>\n      <td>1.0</td>\n      <td>F</td>\n      <td>1.0</td>\n      <td>...</td>\n      <td>Im</td>\n      <td>25.0</td>\n      <td>Im</td>\n      <td>25.0</td>\n      <td>Im</td>\n      <td>25.0</td>\n      <td>Im</td>\n      <td>25.0</td>\n      <td>Im</td>\n      <td>Americas</td>\n    </tr>\n    <tr>\n      <th>4</th>\n      <td>8</td>\n      <td>Antigua and Barbuda</td>\n      <td>414</td>\n      <td>Beans, green</td>\n      <td>5419</td>\n      <td>Yield</td>\n      <td>hg/ha</td>\n      <td>40000.0</td>\n      <td>Fc</td>\n      <td>40000.0</td>\n      <td>...</td>\n      <td>Fc</td>\n      <td>40000.0</td>\n      <td>Fc</td>\n      <td>40400.0</td>\n      <td>Fc</td>\n      <td>40400.0</td>\n      <td>Fc</td>\n      <td>40800.0</td>\n      <td>Fc</td>\n      <td>Americas</td>\n    </tr>\n    <tr>\n      <th>...</th>\n      <td>...</td>\n      <td>...</td>\n      <td>...</td>\n      <td>...</td>\n      <td>...</td>\n      <td>...</td>\n      <td>...</td>\n      <td>...</td>\n      <td>...</td>\n      <td>...</td>\n      <td>...</td>\n      <td>...</td>\n      <td>...</td>\n      <td>...</td>\n      <td>...</td>\n      <td>...</td>\n      <td>...</td>\n      <td>...</td>\n      <td>...</td>\n      <td>...</td>\n      <td>...</td>\n    </tr>\n    <tr>\n      <th>9086</th>\n      <td>181</td>\n      <td>Zimbabwe</td>\n      <td>1729</td>\n      <td>Treenuts, Total</td>\n      <td>5419</td>\n      <td>Yield</td>\n      <td>hg/ha</td>\n      <td>15417.0</td>\n      <td>Of</td>\n      <td>15970.0</td>\n      <td>...</td>\n      <td>Fc</td>\n      <td>17493.0</td>\n      <td>Fc</td>\n      <td>18038.0</td>\n      <td>Fc</td>\n      <td>18579.0</td>\n      <td>Fc</td>\n      <td>19122.0</td>\n      <td>Fc</td>\n      <td>Africa</td>\n    </tr>\n    <tr>\n      <th>9087</th>\n      <td>181</td>\n      <td>Zimbabwe</td>\n      <td>1729</td>\n      <td>Treenuts, Total</td>\n      <td>5510</td>\n      <td>Production</td>\n      <td>tonnes</td>\n      <td>15417.0</td>\n      <td>A</td>\n      <td>15970.0</td>\n      <td>...</td>\n      <td>A</td>\n      <td>6588.0</td>\n      <td>A</td>\n      <td>6490.0</td>\n      <td>A</td>\n      <td>6592.0</td>\n      <td>A</td>\n      <td>6643.0</td>\n      <td>A</td>\n      <td>Africa</td>\n    </tr>\n    <tr>\n      <th>9088</th>\n      <td>181</td>\n      <td>Zimbabwe</td>\n      <td>1735</td>\n      <td>Vegetables Primary</td>\n      <td>5312</td>\n      <td>Area harvested</td>\n      <td>ha</td>\n      <td>12296.0</td>\n      <td>A</td>\n      <td>12644.0</td>\n      <td>...</td>\n      <td>A</td>\n      <td>34443.0</td>\n      <td>A</td>\n      <td>34937.0</td>\n      <td>A</td>\n      <td>35467.0</td>\n      <td>A</td>\n      <td>35994.0</td>\n      <td>A</td>\n      <td>Africa</td>\n    </tr>\n    <tr>\n      <th>9089</th>\n      <td>181</td>\n      <td>Zimbabwe</td>\n      <td>1735</td>\n      <td>Vegetables Primary</td>\n      <td>5419</td>\n      <td>Yield</td>\n      <td>hg/ha</td>\n      <td>65324.0</td>\n      <td>Fc</td>\n      <td>65900.0</td>\n      <td>...</td>\n      <td>Fc</td>\n      <td>66788.0</td>\n      <td>Fc</td>\n      <td>66951.0</td>\n      <td>Fc</td>\n      <td>67043.0</td>\n      <td>Fc</td>\n      <td>67141.0</td>\n      <td>Fc</td>\n      <td>Africa</td>\n    </tr>\n    <tr>\n      <th>9090</th>\n      <td>181</td>\n      <td>Zimbabwe</td>\n      <td>1735</td>\n      <td>Vegetables Primary</td>\n      <td>5510</td>\n      <td>Production</td>\n      <td>tonnes</td>\n      <td>80322.0</td>\n      <td>A</td>\n      <td>83324.0</td>\n      <td>...</td>\n      <td>A</td>\n      <td>230038.0</td>\n      <td>A</td>\n      <td>233908.0</td>\n      <td>A</td>\n      <td>237783.0</td>\n      <td>A</td>\n      <td>241666.0</td>\n      <td>A</td>\n      <td>Africa</td>\n    </tr>\n  </tbody>\n</table>\n<p>38146 rows × 126 columns</p>\n</div>"
     },
     "execution_count": 665,
     "metadata": {},
     "output_type": "execute_result"
    }
   ],
   "source": [
    "df_world"
   ],
   "metadata": {
    "collapsed": false,
    "ExecuteTime": {
     "end_time": "2024-02-09T03:16:34.707728800Z",
     "start_time": "2024-02-09T03:16:34.635147Z"
    }
   },
   "id": "54f4620fb259bdc9",
   "execution_count": 665
  },
  {
   "cell_type": "code",
   "outputs": [],
   "source": [
    "stats_dados_faltantes(df=df_world)"
   ],
   "metadata": {
    "collapsed": false,
    "ExecuteTime": {
     "end_time": "2024-02-09T03:16:34.920767600Z",
     "start_time": "2024-02-09T03:16:34.708729100Z"
    }
   },
   "id": "d9161ed4572c37e1",
   "execution_count": 666
  },
  {
   "cell_type": "markdown",
   "source": [
    "## 3.2 Salvando o conjunto de dados"
   ],
   "metadata": {
    "collapsed": false
   },
   "id": "d380689a5870d4dc"
  },
  {
   "cell_type": "code",
   "outputs": [],
   "source": [
    "df_world.to_csv(\"data/Production_Crops_E_World.csv\")"
   ],
   "metadata": {
    "collapsed": false,
    "ExecuteTime": {
     "end_time": "2024-02-09T03:16:37.967886800Z",
     "start_time": "2024-02-09T03:16:34.836743100Z"
    }
   },
   "id": "ef4acd45aa108f67",
   "execution_count": 667
  },
  {
   "cell_type": "markdown",
   "source": [
    "# 4. Análise dos dados"
   ],
   "metadata": {
    "collapsed": false
   },
   "id": "f76ab3ac8c56b5d"
  },
  {
   "cell_type": "markdown",
   "source": [
    "A análise será feita através do Streamlit. Confira acessando esse [link](https://share.streamlit.io/)"
   ],
   "metadata": {
    "collapsed": false
   },
   "id": "1393a428e34a481d"
  }
 ],
 "metadata": {
  "kernelspec": {
   "display_name": "Python 3",
   "language": "python",
   "name": "python3"
  },
  "language_info": {
   "codemirror_mode": {
    "name": "ipython",
    "version": 2
   },
   "file_extension": ".py",
   "mimetype": "text/x-python",
   "name": "python",
   "nbconvert_exporter": "python",
   "pygments_lexer": "ipython2",
   "version": "2.7.6"
  }
 },
 "nbformat": 4,
 "nbformat_minor": 5
}
